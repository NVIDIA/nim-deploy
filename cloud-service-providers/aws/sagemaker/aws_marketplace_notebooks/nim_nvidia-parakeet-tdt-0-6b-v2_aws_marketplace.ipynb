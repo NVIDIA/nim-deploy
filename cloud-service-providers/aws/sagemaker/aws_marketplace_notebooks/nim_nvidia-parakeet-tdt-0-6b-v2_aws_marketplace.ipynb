{
 "cells": [
  {
   "cell_type": "markdown",
   "id": "fa058068",
   "metadata": {},
   "source": [
    "# Deploy NVIDIA Parakeet TDT 0.6B v2 ASR from AWS Marketplace\n"
   ]
  },
  {
   "cell_type": "markdown",
   "id": "0f5b8560",
   "metadata": {},
   "source": [
    "NVIDIA NIM, a component of NVIDIA AI Enterprise, provides state-of-the-art Automatic Speech Recognition (ASR) capabilities through the Parakeet TDT 0.6B v2 model. This model delivers high-quality speech-to-text conversion with efficient processing and support for real-time inference. Whether you're developing voice assistants, transcription services, or any application that needs to convert speech to text, NVIDIA NIM for ASR has you covered.\n"
   ]
  },
  {
   "cell_type": "markdown",
   "id": "47056661",
   "metadata": {},
   "source": [
    "In this example we show how to deploy the NVIDIA Parakeet TDT 0.6B v2 ASR model from AWS Marketplace\n",
    "\n",
    "NVIDIA Parakeet TDT 0.6B v2 is an Automatic Speech Recognition (ASR) model optimized for efficient processing and real-time inference. This model provides high-quality speech-to-text conversion with excellent accuracy and low latency. The model is designed to handle various audio formats and provides robust transcription capabilities for voice applications.\n",
    "\n",
    "Key Features:\n",
    "- **High Accuracy**: State-of-the-art speech recognition performance\n",
    "- **Real-time Processing**: Optimized for low-latency inference\n",
    "- **Efficient**: 0.6B parameter model for fast processing\n",
    "- **GPU Optimized**: Supports multiple GPU architectures (L40S, A100, H100)\n",
    "\n",
    "The model supports English language processing and is optimized for various audio quality conditions.\n"
   ]
  },
  {
   "cell_type": "markdown",
   "id": "89e46469",
   "metadata": {},
   "source": [
    "Please check out the [NIM ASR docs](https://docs.nvidia.com/nim/automatic-speech-recognition/latest/introduction.html) for more information.\n"
   ]
  },
  {
   "cell_type": "markdown",
   "id": "4e7a5238",
   "metadata": {},
   "source": [
    "## ⚠️ Important Notes\n",
    "\n",
    "This ASR model supports **automatic routing** between HTTP and gRPC protocols based on audio file size and requirements:\n",
    "\n",
    "- **Small files (< 4MB)**: Automatically routed through HTTP for fast processing\n",
    "- **Large files (≥ 4MB)**: Automatically routed through gRPC for efficient streaming\n",
    "- **Force HTTP**: Use header `X-Amzn-SageMaker-Custom-Attributes: /invocations/http` or POST to `/invocations/http`\n",
    "- **Force gRPC**: Use header `X-Amzn-SageMaker-Custom-Attributes: /invocations/grpc` or POST to `/invocations/grpc`\n",
    "\n",
    "The gRPC mode enables advanced features like speaker diarization and word-level timestamps.\n"
   ]
  },
  {
   "cell_type": "markdown",
   "id": "c9e58135",
   "metadata": {},
   "source": [
    "## Pre-requisites:\n",
    "1. **Note**: This notebook contains elements which render correctly in Jupyter interface. Open this notebook from an Amazon SageMaker Notebook Instance or Amazon SageMaker Studio.\n",
    "1. Ensure that IAM role used has **AmazonSageMakerFullAccess**\n",
    "1. To deploy this ML model successfully, ensure that:\n",
    "    1. Either your IAM role has these three permissions and you have authority to make AWS Marketplace subscriptions in the AWS account used: \n",
    "        1. **aws-marketplace:ViewSubscriptions**\n",
    "        1. **aws-marketplace:Unsubscribe**\n",
    "        1. **aws-marketplace:Subscribe**  \n",
    "    2. or your AWS account has a subscription to the Parakeet TDT 0.6B v2 ASR model package.\n",
    "1. **Audio Requirements**: The model accepts audio files in common formats (WAV, MP3, FLAC, etc.) and supports various sample rates.\n"
   ]
  },
  {
   "cell_type": "markdown",
   "id": "d4a58b90",
   "metadata": {},
   "source": [
    "## Subscribe to the model package\n",
    "To subscribe to the model package:\n",
    "1. Open the model package listing page\n",
    "1. On the AWS Marketplace listing, click on the **Continue to subscribe** button.\n",
    "1. On the **Subscribe to this software** page, review and click on **\"Accept Offer\"** if you and your organization agrees with EULA, pricing, and support terms. \n",
    "1. Once you click on **Continue to configuration button** and then choose a **region**, you will see a **Product Arn** displayed. This is the model package ARN that you need to specify while creating a deployable model. Copy the ARN corresponding to your region and specify the same in the following cell.\n"
   ]
  },
  {
   "cell_type": "code",
   "execution_count": 25,
   "id": "52dbb98e",
   "metadata": {
    "execution": {
     "iopub.execute_input": "2025-10-22T23:41:48.917043Z",
     "iopub.status.busy": "2025-10-22T23:41:48.916772Z",
     "iopub.status.idle": "2025-10-22T23:41:49.109037Z",
     "shell.execute_reply": "2025-10-22T23:41:49.108029Z",
     "shell.execute_reply.started": "2025-10-22T23:41:48.917023Z"
    }
   },
   "outputs": [],
   "source": [
    "import boto3, json, sagemaker, time, os\n",
    "from sagemaker import get_execution_role, ModelPackage\n",
    "from botocore.config import Config\n",
    "\n",
    "config = Config(read_timeout=3600)\n",
    "sess = boto3.Session()\n",
    "sm = sess.client(\"sagemaker\")\n",
    "sagemaker_session = sagemaker.Session(boto_session=sess)\n",
    "role = get_execution_role()\n",
    "client = boto3.client(\"sagemaker-runtime\", config=config)\n",
    "region = sess.region_name\n",
    "sm_runtime = boto3.client(\"sagemaker-runtime\")\n",
    "\n"
   ]
  },
  {
   "cell_type": "code",
   "execution_count": 26,
   "id": "b552f608",
   "metadata": {
    "execution": {
     "iopub.execute_input": "2025-10-22T23:41:49.336325Z",
     "iopub.status.busy": "2025-10-22T23:41:49.336090Z",
     "iopub.status.idle": "2025-10-22T23:41:49.348557Z",
     "shell.execute_reply": "2025-10-22T23:41:49.348048Z",
     "shell.execute_reply.started": "2025-10-22T23:41:49.336308Z"
    }
   },
   "outputs": [
    {
     "data": {
      "text/plain": [
       "'arn:aws:sagemaker:us-east-1:865070037744:model-package/nvidia-parakeet-tdt-0-6b-v2-02d6240216f539a185542e8e7f41706d'"
      ]
     },
     "execution_count": 26,
     "metadata": {},
     "output_type": "execute_result"
    }
   ],
   "source": [
    "# replace the arn below with the model package arn you want to deploy\n",
    "nim_package = \"nvidia-parakeet-tdt-0-6b-v2-02d6240216f539a185542e8e7f41706d\"\n",
    "\n",
    "# Mapping for Model Packages\n",
    "model_package_map = {\n",
    "    \"us-east-1\": f\"arn:aws:sagemaker:us-east-1:865070037744:model-package/{nim_package}\",\n",
    "    \"us-east-2\": f\"arn:aws:sagemaker:us-east-2:057799348421:model-package/{nim_package}\",\n",
    "    \"us-west-1\": f\"arn:aws:sagemaker:us-west-1:382657785993:model-package/{nim_package}\",\n",
    "    \"us-west-2\": f\"arn:aws:sagemaker:us-west-2:594846645681:model-package/{nim_package}\",\n",
    "    \"ca-central-1\": f\"arn:aws:sagemaker:ca-central-1:470592106596:model-package/{nim_package}\",\n",
    "    \"eu-central-1\": f\"arn:aws:sagemaker:eu-central-1:446921602837:model-package/{nim_package}\",\n",
    "    \"eu-west-1\": f\"arn:aws:sagemaker:eu-west-1:985815980388:model-package/{nim_package}\",\n",
    "    \"eu-west-2\": f\"arn:aws:sagemaker:eu-west-2:856760150666:model-package/{nim_package}\",\n",
    "    \"eu-west-3\": f\"arn:aws:sagemaker:eu-west-3:843114510376:model-package/{nim_package}\",\n",
    "    \"eu-north-1\": f\"arn:aws:sagemaker:eu-north-1:136758871317:model-package/{nim_package}\",\n",
    "    \"ap-southeast-1\": f\"arn:aws:sagemaker:ap-southeast-1:192199979996:model-package/{nim_package}\",\n",
    "    \"ap-southeast-2\": f\"arn:aws:sagemaker:ap-southeast-2:666831318237:model-package/{nim_package}\",\n",
    "    \"ap-northeast-2\": f\"arn:aws:sagemaker:ap-northeast-2:745090734665:model-package/{nim_package}\",\n",
    "    \"ap-northeast-1\": f\"arn:aws:sagemaker:ap-northeast-1:977537786026:model-package/{nim_package}\",\n",
    "    \"ap-south-1\": f\"arn:aws:sagemaker:ap-south-1:077584701553:model-package/{nim_package}\",\n",
    "    \"sa-east-1\": f\"arn:aws:sagemaker:sa-east-1:270155090741:model-package/{nim_package}\",\n",
    "}\n",
    "\n",
    "region = boto3.Session().region_name\n",
    "if region not in model_package_map.keys():\n",
    "    raise Exception(f\"Current boto3 session region {region} is not supported.\")\n",
    "\n",
    "model_package_arn = model_package_map[region]\n",
    "model_package_arn\n"
   ]
  },
  {
   "cell_type": "markdown",
   "id": "2c101589",
   "metadata": {},
   "source": [
    "## Create the SageMaker Endpoint\n",
    "\n",
    "We first define SageMaker model using the specified ModelPackageArn.\n"
   ]
  },
  {
   "cell_type": "code",
   "execution_count": 27,
   "id": "3c908204",
   "metadata": {
    "execution": {
     "iopub.execute_input": "2025-10-22T23:41:51.339994Z",
     "iopub.status.busy": "2025-10-22T23:41:51.339783Z",
     "iopub.status.idle": "2025-10-22T23:41:52.001478Z",
     "shell.execute_reply": "2025-10-22T23:41:52.000764Z",
     "shell.execute_reply.started": "2025-10-22T23:41:51.339974Z"
    }
   },
   "outputs": [
    {
     "name": "stdout",
     "output_type": "stream",
     "text": [
      "Model Arn: arn:aws:sagemaker:us-east-1:492681118881:model/nvidia-parakeet-tdt-0-6b-v2-asr\n"
     ]
    }
   ],
   "source": [
    "# Define the model details\n",
    "sm_model_name = \"nvidia-parakeet-tdt-0-6b-v2-asr\"\n",
    "\n",
    "# Create the SageMaker model\n",
    "create_model_response = sm.create_model(\n",
    "    ModelName=sm_model_name,\n",
    "    PrimaryContainer={\n",
    "        'ModelPackageName': model_package_arn\n",
    "    },\n",
    "    ExecutionRoleArn=role,\n",
    "    EnableNetworkIsolation=True\n",
    ")\n",
    "print(\"Model Arn: \" + create_model_response[\"ModelArn\"])\n"
   ]
  },
  {
   "cell_type": "markdown",
   "id": "b0c74caf",
   "metadata": {},
   "source": [
    "Next we create endpoint configuration specifying instance type\n"
   ]
  },
  {
   "cell_type": "code",
   "execution_count": 30,
   "id": "264d87b3",
   "metadata": {
    "execution": {
     "iopub.execute_input": "2025-10-22T23:44:31.268465Z",
     "iopub.status.busy": "2025-10-22T23:44:31.268178Z",
     "iopub.status.idle": "2025-10-22T23:44:31.657563Z",
     "shell.execute_reply": "2025-10-22T23:44:31.657059Z",
     "shell.execute_reply.started": "2025-10-22T23:44:31.268446Z"
    }
   },
   "outputs": [
    {
     "name": "stdout",
     "output_type": "stream",
     "text": [
      "Endpoint Config Arn: arn:aws:sagemaker:us-east-1:492681118881:endpoint-config/nvidia-parakeet-tdt-0-6b-v2-asr\n"
     ]
    }
   ],
   "source": [
    "# Create the endpoint configuration\n",
    "endpoint_config_name = sm_model_name\n",
    "\n",
    "create_endpoint_config_response = sm.create_endpoint_config(\n",
    "    EndpointConfigName=endpoint_config_name,\n",
    "    ProductionVariants=[\n",
    "        {\n",
    "            'VariantName': 'AllTraffic',\n",
    "            'ModelName': sm_model_name,\n",
    "            'InitialInstanceCount': 1,\n",
    "            'InstanceType': 'ml.g6e.2xlarge', \n",
    "            'InferenceAmiVersion': 'al2-ami-sagemaker-inference-gpu-2',\n",
    "            'RoutingConfig': {'RoutingStrategy': 'LEAST_OUTSTANDING_REQUESTS'},\n",
    "            'ModelDataDownloadTimeoutInSeconds': 3600, # Specify the model download timeout in seconds.\n",
    "            'ContainerStartupHealthCheckTimeoutInSeconds': 3600, # Specify the health checkup timeout in seconds\n",
    "        }\n",
    "    ]\n",
    ")\n",
    "print(\"Endpoint Config Arn: \" + create_endpoint_config_response[\"EndpointConfigArn\"])\n"
   ]
  },
  {
   "cell_type": "markdown",
   "id": "bf36262f",
   "metadata": {},
   "source": [
    "Using the above endpoint configuration we create a new sagemaker endpoint and wait for the deployment to finish. The status will change to InService once the deployment is successful.\n"
   ]
  },
  {
   "cell_type": "code",
   "execution_count": 31,
   "id": "efeb3703",
   "metadata": {
    "execution": {
     "iopub.execute_input": "2025-10-22T23:44:33.256155Z",
     "iopub.status.busy": "2025-10-22T23:44:33.255964Z",
     "iopub.status.idle": "2025-10-22T23:44:33.832707Z",
     "shell.execute_reply": "2025-10-22T23:44:33.832223Z",
     "shell.execute_reply.started": "2025-10-22T23:44:33.256138Z"
    }
   },
   "outputs": [
    {
     "name": "stdout",
     "output_type": "stream",
     "text": [
      "Endpoint Arn: arn:aws:sagemaker:us-east-1:492681118881:endpoint/nvidia-parakeet-tdt-0-6b-v2-asr\n"
     ]
    }
   ],
   "source": [
    "# Create the endpoint\n",
    "endpoint_name = endpoint_config_name\n",
    "create_endpoint_response = sm.create_endpoint(\n",
    "    EndpointName=endpoint_name,\n",
    "    EndpointConfigName=endpoint_config_name\n",
    ")\n",
    "\n",
    "print(\"Endpoint Arn: \" + create_endpoint_response[\"EndpointArn\"])\n"
   ]
  },
  {
   "cell_type": "code",
   "execution_count": 36,
   "id": "01ba1bb0",
   "metadata": {
    "execution": {
     "iopub.execute_input": "2025-10-22T23:56:13.809475Z",
     "iopub.status.busy": "2025-10-22T23:56:13.809234Z",
     "iopub.status.idle": "2025-10-22T23:56:13.938681Z",
     "shell.execute_reply": "2025-10-22T23:56:13.938233Z",
     "shell.execute_reply.started": "2025-10-22T23:56:13.809455Z"
    }
   },
   "outputs": [
    {
     "name": "stdout",
     "output_type": "stream",
     "text": [
      "Status: InService\n",
      "Arn: arn:aws:sagemaker:us-east-1:492681118881:endpoint/nvidia-parakeet-tdt-0-6b-v2-asr\n",
      "Status: InService\n"
     ]
    }
   ],
   "source": [
    "resp = sm.describe_endpoint(EndpointName=endpoint_name)\n",
    "status = resp[\"EndpointStatus\"]\n",
    "print(\"Status: \" + status)\n",
    "\n",
    "while status == \"Creating\":\n",
    "    time.sleep(60)\n",
    "    resp = sm.describe_endpoint(EndpointName=endpoint_name)\n",
    "    status = resp[\"EndpointStatus\"]\n",
    "    print(\"Status: \" + status)\n",
    "\n",
    "print(\"Arn: \" + resp[\"EndpointArn\"])\n",
    "print(\"Status: \" + status)\n"
   ]
  },
  {
   "cell_type": "markdown",
   "id": "bc9f3bc4",
   "metadata": {},
   "source": [
    "## Run Inference\n",
    "\n",
    "### Test Endpoint with Different Protocols\n",
    "\n",
    "Our NIM ASR endpoint supports multiple inference methods:\n",
    "\n",
    "1. **Auto-routing** (`/invocations`): Automatically chooses HTTP or gRPC based on file size\n",
    "2. **Force HTTP** (`X-Amzn-SageMaker-Custom-Attributes: /invocations/http`): Direct HTTP route\n",
    "\n",
    "#### Test 1: Auto-routing (Recommended)\n"
   ]
  },
  {
   "cell_type": "code",
   "execution_count": 37,
   "id": "a6e4fc84-8aef-4d76-a223-148bed9dbb98",
   "metadata": {
    "execution": {
     "iopub.execute_input": "2025-10-22T23:56:16.715847Z",
     "iopub.status.busy": "2025-10-22T23:56:16.715553Z",
     "iopub.status.idle": "2025-10-22T23:56:17.298657Z",
     "shell.execute_reply": "2025-10-22T23:56:17.298157Z",
     "shell.execute_reply.started": "2025-10-22T23:56:16.715810Z"
    }
   },
   "outputs": [
    {
     "name": "stdout",
     "output_type": "stream",
     "text": [
      "Testing auto-routing with data/test.wav\n",
      "Audio file size: 237,964 bytes (0.23 MB)\n",
      "result: \n",
      "\n",
      "{'text': \"Well, I don't wish to see it any more, observed Phebe, turning away her eyes. It is certainly very like the old portrait. \"}\n",
      "\n",
      "Auto-routing inference successful!\n",
      "Response: {\n",
      "  \"text\": \"Well, I don't wish to see it any more, observed Phebe, turning away her eyes. It is certainly very like the old portrait. \"\n",
      "}\n"
     ]
    },
    {
     "data": {
      "text/plain": [
       "{'text': \"Well, I don't wish to see it any more, observed Phebe, turning away her eyes. It is certainly very like the old portrait. \"}"
      ]
     },
     "execution_count": 37,
     "metadata": {},
     "output_type": "execute_result"
    }
   ],
   "source": [
    "def test_asr_endpoint_autorouting(audio_file_path, endpoint_name):\n",
    "    \"\"\"Test endpoint with auto-routing\"\"\"\n",
    "    print(f\"Testing auto-routing with {audio_file_path}\")\n",
    "    \n",
    "    try:\n",
    "        # Read audio file\n",
    "        with open(audio_file_path, 'rb') as f:\n",
    "            audio_data = f.read()\n",
    "        \n",
    "        file_size = len(audio_data)\n",
    "        print(f\"Audio file size: {file_size:,} bytes ({file_size / (1024*1024):.2f} MB)\")\n",
    "        \n",
    "        # Create multipart form data\n",
    "        boundary = f\"----WebKitFormBoundary{uuid.uuid4().hex}\"\n",
    "        \n",
    "        # Build multipart payload\n",
    "        parts = []\n",
    "        parts.append(f'--{boundary}')\n",
    "        parts.append('Content-Disposition: form-data; name=\"file\"; filename=\"test.wav\"')\n",
    "        parts.append('Content-Type: audio/wav')\n",
    "        parts.append('')\n",
    "        \n",
    "        # Join text parts\n",
    "        text_part = '\\r\\n'.join(parts) + '\\r\\n'\n",
    "        language_part = f'\\r\\n--{boundary}\\r\\nContent-Disposition: form-data; name=\"language_code\"\\r\\n\\r\\nen-US\\r\\n--{boundary}--'\n",
    "        \n",
    "        # Combine all parts\n",
    "        payload = text_part.encode() + audio_data + language_part.encode()\n",
    "        \n",
    "        # Invoke endpoint\n",
    "        response = sm_runtime.invoke_endpoint(\n",
    "            EndpointName=endpoint_name,\n",
    "            ContentType=f'multipart/form-data; boundary={boundary}',\n",
    "            Body=payload\n",
    "        )\n",
    "        \n",
    "        # Parse response\n",
    "        result = json.loads(response['Body'].read().decode())\n",
    "        print(\"result: \\n\")\n",
    "        print(result)\n",
    "        print(f\"\\nAuto-routing inference successful!\")\n",
    "        print(f\"Response: {json.dumps(result, indent=2)}\")\n",
    "        return result\n",
    "        \n",
    "    except Exception as e:\n",
    "        print(f\"Auto-routing test failed: {e}\")\n",
    "        return None \n",
    "\n",
    "# Run auto-routing test\n",
    "# Example usage (replace with your audio file path)\n",
    "audio_file = \"data/test.wav\"\n",
    "test_asr_endpoint_autorouting(audio_file, endpoint_name)\n"
   ]
  },
  {
   "cell_type": "markdown",
   "id": "79834abb",
   "metadata": {},
   "source": [
    "#### Test 2: Force HTTP Route\n",
    "\n",
    "Test the HTTP-only route (optimized for files <5MB):\n"
   ]
  },
  {
   "cell_type": "code",
   "execution_count": 38,
   "id": "0d1fb2f6",
   "metadata": {
    "execution": {
     "iopub.execute_input": "2025-10-22T23:56:18.716164Z",
     "iopub.status.busy": "2025-10-22T23:56:18.715930Z",
     "iopub.status.idle": "2025-10-22T23:56:18.818596Z",
     "shell.execute_reply": "2025-10-22T23:56:18.817962Z",
     "shell.execute_reply.started": "2025-10-22T23:56:18.716144Z"
    }
   },
   "outputs": [
    {
     "name": "stdout",
     "output_type": "stream",
     "text": [
      "Testing HTTP route with data/test.wav\n",
      "\n",
      "HTTP route inference successful!\n",
      "Response: {\n",
      "  \"text\": \"Well, I don't wish to see it any more, observed Phebe, turning away her eyes. It is certainly very like the old portrait. \"\n",
      "}\n"
     ]
    }
   ],
   "source": [
    "# Test 2: Force HTTP route\n",
    "def test_endpoint_http_route(audio_file_path):\n",
    "    \"\"\"Test endpoint with forced HTTP route\"\"\"\n",
    "    print(f\"Testing HTTP route with {audio_file_path}\")\n",
    "    \n",
    "    try:\n",
    "        # Read audio file\n",
    "        with open(audio_file_path, 'rb') as f:\n",
    "            audio_data = f.read()\n",
    "        \n",
    "        # Create multipart form data\n",
    "        boundary = f\"----WebKitFormBoundary{uuid.uuid4().hex}\"\n",
    "        \n",
    "        # Build multipart payload (same as auto-routing)\n",
    "        parts = []\n",
    "        parts.append(f'--{boundary}')\n",
    "        parts.append('Content-Disposition: form-data; name=\"file\"; filename=\"test.wav\"')\n",
    "        parts.append('Content-Type: audio/wav')\n",
    "        parts.append('')\n",
    "        \n",
    "        text_part = '\\r\\n'.join(parts) + '\\r\\n'\n",
    "        language_part = f'\\r\\n--{boundary}\\r\\nContent-Disposition: form-data; name=\"language_code\"\\r\\n\\r\\nen-US\\r\\n--{boundary}--'\n",
    "        payload = text_part.encode() + audio_data + language_part.encode()\n",
    "        \n",
    "        # Invoke endpoint with HTTP route forced\n",
    "        response = sm_runtime.invoke_endpoint(\n",
    "            EndpointName=endpoint_name,\n",
    "            ContentType=f'multipart/form-data; boundary={boundary}',\n",
    "            Body=payload,\n",
    "            CustomAttributes='/invocations/http'  # Force HTTP route\n",
    "        )\n",
    "        \n",
    "        result = json.loads(response['Body'].read().decode())\n",
    "        print(f\"\\nHTTP route inference successful!\")\n",
    "        print(f\"Response: {json.dumps(result, indent=2)}\")\n",
    "        return result\n",
    "        \n",
    "    except Exception as e:\n",
    "        print(f\"HTTP route test failed: {e}\")\n",
    "        return None\n",
    "\n",
    "# Run HTTP route test\n",
    "audio_file = \"data/test.wav\"\n",
    "http_result = test_endpoint_http_route(audio_file)"
   ]
  },
  {
   "cell_type": "markdown",
   "id": "3ce63ea9",
   "metadata": {},
   "source": [
    "### Clean up resources\n",
    "\n",
    "Clean up the SageMaker endpoint and related resources when you're done testing.\n"
   ]
  },
  {
   "cell_type": "code",
   "execution_count": 39,
   "id": "ea55b1de",
   "metadata": {
    "execution": {
     "iopub.execute_input": "2025-10-22T23:56:41.404535Z",
     "iopub.status.busy": "2025-10-22T23:56:41.404269Z",
     "iopub.status.idle": "2025-10-22T23:56:42.040505Z",
     "shell.execute_reply": "2025-10-22T23:56:42.039492Z",
     "shell.execute_reply.started": "2025-10-22T23:56:41.404516Z"
    }
   },
   "outputs": [
    {
     "name": "stdout",
     "output_type": "stream",
     "text": [
      "Cleaning up SageMaker resources...\n",
      "✅ Deleted endpoint: nvidia-parakeet-tdt-0-6b-v2-asr\n",
      "✅ Deleted endpoint config: nvidia-parakeet-tdt-0-6b-v2-asr\n",
      "✅ Deleted model: nvidia-parakeet-tdt-0-6b-v2-asr\n",
      "Cleanup completed!\n"
     ]
    }
   ],
   "source": [
    "# Clean up SageMaker resources\n",
    "print(\"Cleaning up SageMaker resources...\")\n",
    "\n",
    "# Delete the endpoint\n",
    "try:\n",
    "    sm.delete_endpoint(EndpointName=endpoint_name)\n",
    "    print(f\"✅ Deleted endpoint: {endpoint_name}\")\n",
    "except Exception as e:\n",
    "    print(f\"⚠️ Error deleting endpoint: {e}\")\n",
    "\n",
    "# Delete the endpoint configuration\n",
    "try:\n",
    "    sm.delete_endpoint_config(EndpointConfigName=endpoint_config_name)\n",
    "    print(f\"✅ Deleted endpoint config: {endpoint_config_name}\")\n",
    "except Exception as e:\n",
    "    print(f\"⚠️ Error deleting endpoint config: {e}\")\n",
    "\n",
    "# Delete the model\n",
    "try:\n",
    "    sm.delete_model(ModelName=sm_model_name)\n",
    "    print(f\"✅ Deleted model: {sm_model_name}\")\n",
    "except Exception as e:\n",
    "    print(f\"⚠️ Error deleting model: {e}\")\n",
    "\n",
    "print(\"Cleanup completed!\")\n"
   ]
  },
  {
   "cell_type": "code",
   "execution_count": null,
   "id": "42eea0c8-efe7-44c3-bbd2-d96cdf2d92ad",
   "metadata": {},
   "outputs": [],
   "source": []
  }
 ],
 "metadata": {
  "kernelspec": {
   "display_name": "Python 3 (ipykernel)",
   "language": "python",
   "name": "python3"
  },
  "language_info": {
   "codemirror_mode": {
    "name": "ipython",
    "version": 3
   },
   "file_extension": ".py",
   "mimetype": "text/x-python",
   "name": "python",
   "nbconvert_exporter": "python",
   "pygments_lexer": "ipython3",
   "version": "3.12.9"
  }
 },
 "nbformat": 4,
 "nbformat_minor": 5
}
