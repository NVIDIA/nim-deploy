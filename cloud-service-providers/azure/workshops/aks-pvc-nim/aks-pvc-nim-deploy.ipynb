{
 "cells": [
  {
   "cell_type": "markdown",
   "id": "bd62f034-6c6d-480c-96fb-e54811ed60b6",
   "metadata": {},
   "source": [
    "# Llama 3.1-8b  NIM Deployment Guide with AKS PVC Installation \n",
    "\n",
    "## Overview\n",
    "This notebook demonstrates how to deploy the Llama 3.1 8B Instruct NIM (NVIDIA Inference Microservice) on Azure Kubernetes Service (AKS) with persistent storage using Azure Files for model weights caching.\n",
    "\n",
    "## Prerequisites\n",
    "- Access to at least 1 GPU (Example uses A100 80GB GPU)\n",
    "- Access to a GPU-enabled Kubernetes cluster\n",
    "- `kubectl` and `helm` CLI tools installed\n",
    "- Access to GPU node pools\n",
    "- NGC API key for accessing NVIDIA containers and models\n",
    "\n",
    "## Setup Process\n",
    "\n",
    "### 1. Initial Infrastructure Setup\n",
    "\n",
    "### 2. Storage Configuration\n",
    "\n",
    "### 3. Persistent Volume Setup\n",
    "\n",
    "### 4. GPU Infrastructure\n",
    "\n",
    "### 5. NIM Deployment Steps\n",
    "- **Helm Chart Setup**\n",
    "- **NIM Configuration**\n",
    "- **Model Deployment**\n",
    "\n",
    "### 6. Testing and Verification\n",
    "- **Service Access**\n",
    "- **Model Testing**\n",
    "\n",
    "## 7. Cleanup"
   ]
  },
  {
   "cell_type": "markdown",
   "id": "89e1150e",
   "metadata": {},
   "source": [
    "------"
   ]
  },
  {
   "cell_type": "markdown",
   "id": "f5bc915c",
   "metadata": {},
   "source": [
    "## Prerequisites\n",
    "\n",
    "Please follow [prerequisites instruction](../../aks/prerequisites/README.md) to get ready for AKS creation.\n",
    "\n",
    "- Access to at least 1 GPU (Example uses A100 80GB GPU)\n",
    "- Access to a GPU-enabled Kubernetes cluster\n",
    "- `kubectl` and `helm` CLI tools installed\n",
    "- Access to GPU node pools\n",
    "- NGC API key for accessing NVIDIA containers and models"
   ]
  },
  {
   "cell_type": "markdown",
   "id": "d498e76d",
   "metadata": {},
   "source": [
    "------"
   ]
  },
  {
   "cell_type": "markdown",
   "id": "93003c9f",
   "metadata": {},
   "source": [
    "### 1. Initial Infrastructure Setup\n",
    "- Creates Azure resource group and AKS cluster\n",
    "- Configures basic node pool with Standard_D4s_v3 VM size\n",
    "- Sets up cluster credentials and context"
   ]
  },
  {
   "cell_type": "markdown",
   "id": "5c35f297-8232-44a0-8446-16d174a24784",
   "metadata": {},
   "source": [
    "#### Set NGC API Key\n",
    "\n",
    "An API key is needed to pull resources from NGC, set in the [.env](.env) file and use dotenv package to load it"
   ]
  },
  {
   "cell_type": "code",
   "execution_count": null,
   "id": "76e75ffa",
   "metadata": {},
   "outputs": [],
   "source": [
    "!pip install python-dotenv"
   ]
  },
  {
   "cell_type": "code",
   "execution_count": null,
   "id": "810f4e33-7917-429e-909d-8d82db579307",
   "metadata": {},
   "outputs": [],
   "source": [
    "import os\n",
    "from dotenv import load_dotenv\n",
    "\n",
    "# os.environ[\"NGC_API_KEY\"] = \"nvapi-xxxxx\"\n",
    "\n",
    "# Load environment variables from .env file\n",
    "load_dotenv()"
   ]
  },
  {
   "cell_type": "markdown",
   "id": "a475c803",
   "metadata": {},
   "source": [
    "Specify the following parameters:"
   ]
  },
  {
   "cell_type": "code",
   "execution_count": null,
   "id": "bce9e89e",
   "metadata": {},
   "outputs": [],
   "source": [
    "\n",
    "os.environ[\"REGION\"] = \"westeurope\"\n",
    "os.environ[\"RESOURCE_GROUP\"] = \"rg-az-akspvc\"\n",
    "os.environ[\"ZONE\"] = \"2\"\n",
    "os.environ[\"CPU_COUNT\"] = \"1\"\n",
    "os.environ[\"CLUSTER_NAME\"] = \"akspvc\"\n",
    "os.environ[\"STORAGE_ACCOUNT_NAME\"] = \"stgmodelweights\"\n",
    "os.environ[\"FILE_SHARE_NAME\"] = \"huggingface-models\""
   ]
  },
  {
   "cell_type": "markdown",
   "id": "e7576593",
   "metadata": {},
   "source": [
    "Create Azure Resource Group for this Lab"
   ]
  },
  {
   "cell_type": "code",
   "execution_count": null,
   "id": "e4d2a84a",
   "metadata": {},
   "outputs": [],
   "source": [
    "!  az group create -l $REGION -n $RESOURCE_GROUP\n"
   ]
  },
  {
   "cell_type": "markdown",
   "id": "4b1d1b5f",
   "metadata": {},
   "source": [
    "Create AKS Cluster"
   ]
  },
  {
   "cell_type": "code",
   "execution_count": null,
   "id": "f3a4353f",
   "metadata": {},
   "outputs": [],
   "source": [
    "! az aks create -g  $RESOURCE_GROUP -n $CLUSTER_NAME --location $REGION --zones $ZONE --node-count $CPU_COUNT --enable-node-public-ip  --node-vm-size Standard_D4s_v3 --ssh-key-value ~/.ssh/id_rsa.pub"
   ]
  },
  {
   "cell_type": "markdown",
   "id": "1a48b120",
   "metadata": {},
   "source": [
    "Get Credentials:"
   ]
  },
  {
   "cell_type": "code",
   "execution_count": null,
   "id": "d31e00be",
   "metadata": {},
   "outputs": [],
   "source": [
    "!az aks get-credentials --resource-group $RESOURCE_GROUP --name $CLUSTER_NAME\n"
   ]
  },
  {
   "cell_type": "markdown",
   "id": "af5f2873",
   "metadata": {},
   "source": [
    "check kubectl context is properly setup"
   ]
  },
  {
   "cell_type": "code",
   "execution_count": null,
   "id": "03f9ac1e",
   "metadata": {},
   "outputs": [],
   "source": [
    "!kubectl config get-contexts\n"
   ]
  },
  {
   "cell_type": "markdown",
   "id": "d115a480",
   "metadata": {},
   "source": [
    "You should see output like this:\n",
    "\n",
    "```\n",
    "CURRENT   NAME     CLUSTER   AUTHINFO                          NAMESPACE\n",
    "*         akspvc   akspvc    clusterUser_rg-az-akspvc_akspvc   \n",
    "```"
   ]
  },
  {
   "cell_type": "markdown",
   "id": "a60c9972",
   "metadata": {},
   "source": [
    "------"
   ]
  },
  {
   "cell_type": "markdown",
   "id": "0d297bd3",
   "metadata": {},
   "source": [
    "### 2. Storage Configuration\n",
    "- Creates Azure Storage Account and File Share\n",
    "- Sets up 600GB persistent volume for Hugging Face models\n",
    "- Configures storage access and network rules\n",
    "- Creates Kubernetes secrets for storage credentials"
   ]
  },
  {
   "cell_type": "markdown",
   "id": "13eee230",
   "metadata": {},
   "source": [
    "Create a storage account (supports Azure Files)\n"
   ]
  },
  {
   "cell_type": "code",
   "execution_count": null,
   "id": "f89ab741",
   "metadata": {},
   "outputs": [],
   "source": [
    "!az storage account create \\\n",
    "  --resource-group $RESOURCE_GROUP \\\n",
    "  --name $STORAGE_ACCOUNT_NAME \\\n",
    "  --sku Standard_LRS \\\n",
    "  --kind StorageV2"
   ]
  },
  {
   "cell_type": "code",
   "execution_count": null,
   "id": "89673f39",
   "metadata": {},
   "outputs": [],
   "source": [
    "%%bash\n",
    "# Get the account key\n",
    "ACCOUNT_KEY=$(az storage account keys list \\\n",
    "  --resource-group $RESOURCE_GROUP \\\n",
    "  --account-name $STORAGE_ACCOUNT_NAME \\\n",
    "  --query '[0].value' -o tsv)\n",
    "\n",
    "echo $ACCOUNT_KEY\n",
    "\n",
    "# Create the file share\n",
    "az storage share create \\\n",
    "  --name $FILE_SHARE_NAME \\\n",
    "  --account-name $STORAGE_ACCOUNT_NAME \\\n",
    "  --account-key $ACCOUNT_KEY"
   ]
  },
  {
   "cell_type": "markdown",
   "id": "130e6a92",
   "metadata": {},
   "source": [
    "First, let's update the storage account's network rules to allow access from the AKS cluster's virtual network:"
   ]
  },
  {
   "cell_type": "code",
   "execution_count": null,
   "id": "ac932e5b",
   "metadata": {},
   "outputs": [],
   "source": [
    "!az storage account update --name $STORAGE_ACCOUNT_NAME  --resource-group $RESOURCE_GROUP --default-action Allow"
   ]
  },
  {
   "cell_type": "markdown",
   "id": "e880d56e",
   "metadata": {},
   "source": [
    "Check azure portal , you should have aks cluster and azure blob storage account like this:\n",
    "![](imgs/azureportal.png)"
   ]
  },
  {
   "cell_type": "markdown",
   "id": "75e18635",
   "metadata": {},
   "source": [
    "Create a NIM Namespace"
   ]
  },
  {
   "cell_type": "code",
   "execution_count": null,
   "id": "4e80af84",
   "metadata": {},
   "outputs": [],
   "source": [
    "!kubectl create namespace nim"
   ]
  },
  {
   "cell_type": "markdown",
   "id": "1a27c404",
   "metadata": {},
   "source": [
    "Now create a secret in your AKS cluster with the storage credentials:\n"
   ]
  },
  {
   "cell_type": "markdown",
   "id": "4f261236",
   "metadata": {},
   "source": [
    "Create a new azure-secret with the correct storage account credentials\n",
    "The secret should contain:\n",
    "- azurestorageaccountname: The name of your storage account (stgmodelweights)\n",
    "- azurestorageaccountkey: The access key for your storage account\n"
   ]
  },
  {
   "cell_type": "code",
   "execution_count": null,
   "id": "2334b681",
   "metadata": {},
   "outputs": [],
   "source": [
    "%%bash\n",
    "\n",
    "kubectl create secret generic azure-secret  \\\n",
    " --from-literal=azurestorageaccountname=$STORAGE_ACCOUNT_NAME \\\n",
    " --from-literal=azurestorageaccountkey=$(az storage account keys list --account-name $STORAGE_ACCOUNT_NAME --query '[0].value' -o tsv) \\\n",
    " -n nim"
   ]
  },
  {
   "cell_type": "markdown",
   "id": "cac77cae",
   "metadata": {},
   "source": [
    "create folder manifests"
   ]
  },
  {
   "cell_type": "code",
   "execution_count": null,
   "id": "9ea4ceef",
   "metadata": {},
   "outputs": [],
   "source": [
    "!mkdir -p manifests"
   ]
  },
  {
   "cell_type": "markdown",
   "id": "39e0e504",
   "metadata": {},
   "source": [
    "------"
   ]
  },
  {
   "cell_type": "markdown",
   "id": "76480b0e",
   "metadata": {},
   "source": [
    "### 3. Persistent Volume Setup\n",
    "- Creates PersistentVolume (PV) and PersistentVolumeClaim (PVC)\n",
    "- Configures ReadWriteMany access mode\n",
    "- Implements storage class: azurefile\n",
    "- Deploys debug pod to verify storage functionality"
   ]
  },
  {
   "cell_type": "markdown",
   "id": "c023902a",
   "metadata": {},
   "source": [
    "Create PersistentVolume and PVC :\n",
    "\n",
    "✅ The PersistentVolume (PV): • Represents the actual Azure File share that you created manually (with the CLI). • You tell Kubernetes: “Here’s a real external volume (Azure File share) that I want to use. It exists, here’s its name, secret, access settings, etc.” • You link it to the file share name and storage account.\n",
    "\n",
    "✅ The PersistentVolumeClaim (PVC): • This is what your pods use to request access to storage. • The PVC says: “I need a 100Gi volume that’s ReadOnlyMany and uses the azurefile storage class.” • Kubernetes will then bind this claim to the PV you defined, if it matches.\n",
    "\n",
    "We will create a PVC to store the HF weights that will be re-used for NIMS , this way NIMs will not have to redowload the HF weights every time the cluster restarts."
   ]
  },
  {
   "cell_type": "code",
   "execution_count": null,
   "id": "b0202b10",
   "metadata": {},
   "outputs": [],
   "source": [
    "%%bash\n",
    "cat << EOF > manifests/azurefile-pv-pvc.yaml\n",
    "apiVersion: v1\n",
    "kind: PersistentVolume\n",
    "metadata:\n",
    "  name: hf-models-pv\n",
    "  labels:\n",
    "    volume: hf-models\n",
    "spec:\n",
    "  capacity:\n",
    "    storage: 600Gi\n",
    "  accessModes:\n",
    "    - ReadWriteMany\n",
    "  persistentVolumeReclaimPolicy: Retain\n",
    "  storageClassName: azurefile\n",
    "  volumeMode: Filesystem\n",
    "  azureFile:\n",
    "    secretName: azure-secret\n",
    "    shareName: huggingface-models\n",
    "    readOnly: false\n",
    "\n",
    "---\n",
    "apiVersion: v1\n",
    "kind: PersistentVolumeClaim\n",
    "metadata:\n",
    "  name: hf-models-pvc\n",
    "  namespace: nim\n",
    "spec:\n",
    "  accessModes:\n",
    "    - ReadWriteMany\n",
    "  storageClassName: azurefile\n",
    "  volumeMode: Filesystem\n",
    "  resources:\n",
    "    requests:\n",
    "      storage: 600Gi\n",
    "  selector:\n",
    "    matchLabels:\n",
    "      volume: hf-models\n",
    "EOF"
   ]
  },
  {
   "cell_type": "markdown",
   "id": "551b562c",
   "metadata": {},
   "source": [
    "apply the pv-pvc "
   ]
  },
  {
   "cell_type": "code",
   "execution_count": null,
   "id": "b583bbb1",
   "metadata": {},
   "outputs": [],
   "source": [
    "!kubectl apply -f manifests/azurefile-pv-pvc.yaml\n",
    "\n"
   ]
  },
  {
   "cell_type": "markdown",
   "id": "be61b447",
   "metadata": {},
   "source": [
    "create the pvc-debugger pod to test pvc "
   ]
  },
  {
   "cell_type": "code",
   "execution_count": null,
   "id": "784f69e3",
   "metadata": {},
   "outputs": [],
   "source": [
    "%%bash\n",
    "cat << EOF > manifests/debug-blob-pod.yaml\n",
    "apiVersion: v1\n",
    "kind: Pod\n",
    "metadata:\n",
    "  name: pvc-debugger\n",
    "  namespace: nim\n",
    "spec:\n",
    "  containers:\n",
    "  - name: debug\n",
    "    image: ubuntu\n",
    "    command: [\"/bin/bash\", \"-c\", \"--\"]\n",
    "    args: [\"while true; do sleep 30; done;\"]\n",
    "    volumeMounts:\n",
    "    - name: hf-volume\n",
    "      mountPath: /mnt/models\n",
    "  volumes:\n",
    "  - name: hf-volume\n",
    "    persistentVolumeClaim:\n",
    "      claimName: hf-models-pvc\n",
    "  restartPolicy: Never\n",
    "EOF"
   ]
  },
  {
   "cell_type": "markdown",
   "id": "7c86fecc",
   "metadata": {},
   "source": [
    "Deploys debug pod to verify storage functionality\n"
   ]
  },
  {
   "cell_type": "code",
   "execution_count": null,
   "id": "b22a290b",
   "metadata": {},
   "outputs": [],
   "source": [
    "!kubectl apply -f manifests/debug-blob-pod.yaml"
   ]
  },
  {
   "cell_type": "markdown",
   "id": "4700cbd6",
   "metadata": {},
   "source": [
    "verify pvc-debugger is running"
   ]
  },
  {
   "cell_type": "code",
   "execution_count": null,
   "id": "7971b8e4",
   "metadata": {},
   "outputs": [],
   "source": [
    "!kubectl get pods -n nim"
   ]
  },
  {
   "cell_type": "code",
   "execution_count": null,
   "id": "f8aa851e",
   "metadata": {},
   "outputs": [],
   "source": [
    "!kubectl describe pod  pvc-debugger -n nim"
   ]
  },
  {
   "cell_type": "markdown",
   "id": "666cd0a6",
   "metadata": {},
   "source": [
    "once it’s running, exec into the pod:\n",
    "```\n",
    "kubectl exec -n nim -it pvc-debugger -- bash\n",
    "```\n",
    "Inside the pod, check the mounted path:\n",
    "```\n",
    "root@pvc-debugger:/# df -h /mnt/models/\n",
    "Filesystem                                                  Size  Used Avail Use% Mounted on\n",
    "//stgmodelweights.file.core.windows.net/huggingface-models  100T     0  100T   0% /mnt/models\n",
    "\n",
    "root@pvc-debugger:/# ls -la /mnt/models/\n",
    "total 4\n",
    "drwxrwxrwx 2 root root    0 May  6 18:36 .\n",
    "drwxr-xr-x 1 root root 4096 May  6 18:36 ..\n",
    "\n",
    "root@pvc-debugger:/# touch /mnt/models/testfile\n",
    "\n",
    "root@pvc-debugger:/# ls -la /mnt/models/\n",
    "total 4\n",
    "drwxrwxrwx 2 root root    0 May  6 18:36 .\n",
    "drwxr-xr-x 1 root root 4096 May  6 18:36 ..\n",
    "-rwxrwxrwx 1 root root    0 May  6 18:46 testfile\n",
    "\n",
    "exit\n",
    "```"
   ]
  },
  {
   "cell_type": "code",
   "execution_count": null,
   "id": "2f2a44a4",
   "metadata": {},
   "outputs": [],
   "source": [
    "!kubectl exec -it pvc-debugger -n nim -- ls -la /mnt/models"
   ]
  },
  {
   "cell_type": "code",
   "execution_count": null,
   "id": "388cdf46",
   "metadata": {},
   "outputs": [],
   "source": [
    "!kubectl get pods -n nim    "
   ]
  },
  {
   "cell_type": "markdown",
   "id": "b1d20bfe",
   "metadata": {},
   "source": [
    "------"
   ]
  },
  {
   "cell_type": "markdown",
   "id": "73c16880",
   "metadata": {},
   "source": [
    "### 4. GPU Infrastructure\n",
    "- Adds GPU node pool with A100 GPU (standard_nc24ads_a100_v4)\n",
    "- Installs NVIDIA GPU Operator via Helm\n",
    "- Configures GPU drivers and container runtime"
   ]
  },
  {
   "cell_type": "code",
   "execution_count": null,
   "id": "3a7fa749",
   "metadata": {},
   "outputs": [],
   "source": [
    "%%bash\n",
    "az aks nodepool add --resource-group $RESOURCE_GROUP --cluster-name $CLUSTER_NAME --name gpupool --node-count 1 --skip-gpu-driver-install --node-vm-size standard_nc24ads_a100_v4 --node-osdisk-size 2048 --max-pods 110"
   ]
  },
  {
   "cell_type": "markdown",
   "id": "4cd777e5-4cfd-4cbb-bf14-9e3d5114d482",
   "metadata": {},
   "source": [
    "### Add NVIDIA Helm Repository"
   ]
  },
  {
   "cell_type": "code",
   "execution_count": null,
   "id": "7463c36a-9d3e-4bb0-8210-bab20433d777",
   "metadata": {},
   "outputs": [],
   "source": [
    "%%bash\n",
    "# add nvidia helm repo\n",
    "helm repo add nvidia https://helm.ngc.nvidia.com/nvidia --pass-credentials && helm repo update\n"
   ]
  },
  {
   "cell_type": "markdown",
   "id": "a707f030-ce8d-4653-948f-e3d86b1809c9",
   "metadata": {},
   "source": [
    "### Install NVIDIA GPU Operator\n",
    "\n",
    "With the helm repo added, we can install the NVIDIA GPU Operator. The configurations below are geared towards installing the operator in a scenario where drivers are installed on the node pools machines and will not be managed by the operator. In scenarios where the drivers are managed by the operator, please disreagrd the `--set` command fields."
   ]
  },
  {
   "cell_type": "code",
   "execution_count": null,
   "id": "09dd9e58-2e9c-4736-b675-8faba275e4da",
   "metadata": {},
   "outputs": [],
   "source": [
    "!helm install --create-namespace --namespace gpu-operator nvidia/gpu-operator --wait --generate-name\n"
   ]
  },
  {
   "cell_type": "markdown",
   "id": "01185511-7761-4962-8186-1db498256091",
   "metadata": {},
   "source": [
    "### Verify Installation"
   ]
  },
  {
   "cell_type": "code",
   "execution_count": null,
   "id": "a2c302d9-e7dd-40d2-a35c-ab25cef9bd71",
   "metadata": {},
   "outputs": [],
   "source": [
    "!kubectl get pods -n gpu-operator"
   ]
  },
  {
   "cell_type": "markdown",
   "id": "5a61136a",
   "metadata": {},
   "source": [
    "------"
   ]
  },
  {
   "cell_type": "markdown",
   "id": "c65c0688",
   "metadata": {},
   "source": [
    "### 5. NIM Deployment Steps\n",
    "- **Helm Chart Setup**\n",
    "   - Fetches NIM LLM Helm chart from NGC\n",
    "   - Creates necessary NGC secrets for pulling images\n",
    "   - Sets up registry secrets for nvcr.io access\n",
    "\n",
    "- **NIM Configuration**\n",
    "   - Creates custom values file for Helm deployment\n",
    "   - Configures model repository and version\n",
    "   - Sets up volume mounts for model caching\n",
    "   - Configures GPU resource limits\n",
    "\n",
    "- **Model Deployment**\n",
    "   - Installs Llama 3.1 8B Instruct model using Helm\n",
    "   - Mounts PVC for model weight persistence\n",
    "   - Configures environment variables for caching"
   ]
  },
  {
   "cell_type": "markdown",
   "id": "93181d0f",
   "metadata": {},
   "source": [
    "Fetch the NIM LLM Helm chart\n",
    "Now that we've configured the NGC API key, we can download the NIM LLM Helm chart from NGC using the following command:"
   ]
  },
  {
   "cell_type": "code",
   "execution_count": null,
   "id": "52175adf",
   "metadata": {},
   "outputs": [],
   "source": [
    "!helm fetch https://helm.ngc.nvidia.com/nim/charts/nim-llm-1.7.0.tgz --username='$oauthtoken' --password=$NGC_CLI_API_KEY"
   ]
  },
  {
   "cell_type": "markdown",
   "id": "cac5a664",
   "metadata": {},
   "source": [
    "In order to configure and launch an NVIDIA NIM, it is important to configure the secrets we’ll need to pull all the model artifacts directly from NGC. This can be done using your NGC API key:"
   ]
  },
  {
   "cell_type": "code",
   "execution_count": null,
   "id": "fdca2a62",
   "metadata": {},
   "outputs": [],
   "source": [
    "%%bash\n",
    "kubectl create secret docker-registry registry-secret --docker-server=nvcr.io --docker-username='$oauthtoken'     --docker-password=$NGC_CLI_API_KEY -n nim\n",
    "kubectl create secret generic ngc-api --from-literal=NGC_API_KEY=$NGC_CLI_API_KEY -n nim"
   ]
  },
  {
   "cell_type": "markdown",
   "id": "973e6428",
   "metadata": {},
   "source": [
    "create nim_custom_value.yaml manifest"
   ]
  },
  {
   "cell_type": "code",
   "execution_count": null,
   "id": "0f7da974",
   "metadata": {},
   "outputs": [],
   "source": [
    "%%bash\n",
    "# create nim_custom_value.yaml manifest\n",
    "cat <<EOF > nim_custom_value.yaml\n",
    "image:\n",
    "  repository: \"nvcr.io/nim/meta/llama-3.1-8b-instruct\" # container location\n",
    "  tag: 1.3.3 # NIM version you want to deploy\n",
    "\n",
    "model:\n",
    "  ngcAPISecret: ngc-api  # name of a secret in the cluster that includes a key named NGC_CLI_API_KEY and is an NGC API key\n",
    "\n",
    "# Disable default persistence since we're using pre-created PV/PVC\n",
    "persistence:\n",
    "  enabled: false\n",
    "\n",
    "imagePullSecrets:\n",
    "  - name: registry-secret # name of a secret used to pull nvcr.io images\n",
    "\n",
    "resources:\n",
    "  limits:\n",
    "    nvidia.com/gpu: 1\n",
    "\n",
    "env:\n",
    "  - name: NIM_CACHE_PATH\n",
    "    value: /mnt/models\n",
    "\n",
    "\n",
    "extraVolumeMounts:\n",
    "  - name: hf-models\n",
    "    mountPath: /mnt/models\n",
    "\n",
    "extraVolumes:\n",
    "  - name: hf-models\n",
    "    persistentVolumeClaim:\n",
    "      claimName: hf-models-pvc\n",
    "EOF"
   ]
  },
  {
   "cell_type": "markdown",
   "id": "091528a4",
   "metadata": {},
   "source": [
    "Install llama-3.1-8b-instruct nim "
   ]
  },
  {
   "cell_type": "code",
   "execution_count": null,
   "id": "42885e87",
   "metadata": {},
   "outputs": [],
   "source": [
    "!helm install my-nim nim-llm-1.7.0.tgz -f nim_custom_value.yaml --namespace nim"
   ]
  },
  {
   "cell_type": "code",
   "execution_count": null,
   "id": "16d2263a",
   "metadata": {},
   "outputs": [],
   "source": [
    "!kubectl get pods -n nim"
   ]
  },
  {
   "cell_type": "markdown",
   "id": "4dcd7ee2",
   "metadata": {},
   "source": [
    "Describe the pod to check its status and events\n"
   ]
  },
  {
   "cell_type": "code",
   "execution_count": null,
   "id": "cbc9a9b6",
   "metadata": {
    "vscode": {
     "languageId": "markdown"
    }
   },
   "outputs": [],
   "source": [
    "!kubectl describe pod my-nim-nim-llm-0 -n nim"
   ]
  },
  {
   "cell_type": "markdown",
   "id": "26c45f7e",
   "metadata": {},
   "source": [
    "wait until the pod is up and running"
   ]
  },
  {
   "cell_type": "code",
   "execution_count": null,
   "id": "c3496c8e",
   "metadata": {
    "vscode": {
     "languageId": "markdown"
    }
   },
   "outputs": [],
   "source": [
    "!kubectl get pods -n nim"
   ]
  },
  {
   "cell_type": "code",
   "execution_count": null,
   "id": "89a6fb77",
   "metadata": {
    "vscode": {
     "languageId": "markdown"
    }
   },
   "outputs": [],
   "source": [
    "!kubectl logs my-nim-nim-llm-0 -n nim"
   ]
  },
  {
   "cell_type": "code",
   "execution_count": null,
   "id": "30f3aa99",
   "metadata": {
    "vscode": {
     "languageId": "markdown"
    }
   },
   "outputs": [],
   "source": [
    "!kubectl get pvc,pv -n nim"
   ]
  },
  {
   "cell_type": "code",
   "execution_count": null,
   "id": "45c8fed0",
   "metadata": {
    "vscode": {
     "languageId": "markdown"
    }
   },
   "outputs": [],
   "source": [
    "!kubectl get svc -n nim"
   ]
  },
  {
   "cell_type": "markdown",
   "id": "5f8b4870",
   "metadata": {},
   "source": [
    "When you deploy your nim it should , your azure blob file share should look like this:\n",
    "![](imgs/azureblobstore.png)"
   ]
  },
  {
   "cell_type": "code",
   "execution_count": 2,
   "id": "ecdb4379",
   "metadata": {
    "vscode": {
     "languageId": "markdown"
    }
   },
   "outputs": [],
   "source": [
    "#run this from the terminal not jupyter notebook\n",
    "#!kubectl exec -it my-nim-nim-llm-0 -n nim -- /bin/bash"
   ]
  },
  {
   "cell_type": "markdown",
   "id": "d926a104",
   "metadata": {},
   "source": [
    "you can double check that the artifacts are stored in pvc like this:\n",
    "```\n",
    "(base) azeltov@azeltov-mlt nvingest-aks-timeslice % kubectl exec -it my-nim-nim-llm-0 -n nim -- /bin/bash\n",
    "\n",
    "nim@my-nim-nim-llm-0:/$ ls /mnt/models/\n",
    "huggingface/ local_cache/ ngc/         testfile     \n",
    "\n",
    "nim@my-nim-nim-llm-0:/$ ls /mnt/models/ngc/hub/\n",
    "models--nim--meta--llama-3_1-8b-instruct/ tmp/\n",
    "\n",
    "nim@my-nim-nim-llm-0:/$ ls -al /mnt/models/ngc/hub/models--nim--meta--llama-3_1-8b-instruct/\n",
    "total 0\n",
    "drwxrwxrwx 2 root nim 0 May  6 18:59 .\n",
    "drwxrwxrwx 2 root nim 0 May  6 18:59 ..\n",
    "drwxrwxrwx 2 root nim 0 May  6 18:59 blobs\n",
    "drwxrwxrwx 2 root nim 0 May  6 18:59 refs\n",
    "drwxrwxrwx 2 root nim 0 May  6 18:59 snapshots\n",
    "\n",
    "nim@my-nim-nim-llm-0:/$ ls -al /mnt/models/ngc/hub/models--nim--meta--llama-3_1-8b-instruct/snapshots/hf-8c22764-nim1.3b/\n",
    "total 21\n",
    "drwxrwxrwx 2 root nim  0 May  6 18:59 .\n",
    "drwxrwxrwx 2 root nim  0 May  6 18:59 ..\n",
    "lrwxrwxrwx 1 root nim 44 May  6 19:02 LICENSE.txt -> ../../blobs/3cd9c71fda5c30fd224140dfec0cd6f3\n",
    "lrwxrwxrwx 1 root nim 44 May  6 19:02 NOTICE.txt -> ../../blobs/c67fa93728e8b46b192ff4f685802d5e\n",
    "....\n",
    "lrwxrwxrwx 1 root nim 44 May  6 19:01 tokenizer_config.json -> ../../blobs/523573f406014bef4ce6d8fec12d218c\n",
    "lrwxrwxrwx 1 root nim 44 May  6 19:02 tool_use_config.json -> ../../blobs/f08779fe481535c7bac34e5534353ea1\n",
    "```"
   ]
  },
  {
   "cell_type": "code",
   "execution_count": null,
   "id": "85b44bc9",
   "metadata": {
    "vscode": {
     "languageId": "markdown"
    }
   },
   "outputs": [],
   "source": [
    "# run in terminal, otherwise it will block\n",
    "#kubectl port-forward svc/my-nim-nim-llm 8000:8000 -n nim"
   ]
  },
  {
   "cell_type": "markdown",
   "id": "728fea9d",
   "metadata": {},
   "source": [
    "------"
   ]
  },
  {
   "cell_type": "markdown",
   "id": "7555da3d",
   "metadata": {},
   "source": [
    "### 6. Testing and Verification\n",
    "- **Service Access**\n",
    "   - Sets up port forwarding to access the NIM service\n",
    "   - Exposes service on port 8000\n"
   ]
  },
  {
   "cell_type": "markdown",
   "id": "2a20eddd",
   "metadata": {},
   "source": [
    "Testing NIM deployment"
   ]
  },
  {
   "cell_type": "code",
   "execution_count": null,
   "id": "68349b15",
   "metadata": {
    "vscode": {
     "languageId": "markdown"
    }
   },
   "outputs": [],
   "source": [
    "%%bash\n",
    "curl -X 'POST' \\\n",
    "'http://localhost:8000/v1/chat/completions' \\\n",
    "-H 'accept: application/json' \\\n",
    "-H 'Content-Type: application/json' \\\n",
    "-d '{\n",
    "\"messages\": [\n",
    "    {\n",
    "    \"content\": \"You are a polite and respectful chatbot helping people plan a vacation.\",\n",
    "    \"role\": \"system\"\n",
    "    },\n",
    "    {\n",
    "    \"content\": \"What should I do for a 4 day vacation in Spain?\",\n",
    "    \"role\": \"user\"\n",
    "    }\n",
    "],\n",
    "\"model\": \"meta/llama-3.1-8b-instruct\",\n",
    "\"max_tokens\": 512,\n",
    "\"top_p\": 1,\n",
    "\"n\": 1,\n",
    "\"stream\": false,\n",
    "\"frequency_penalty\": 0.0\n",
    "}'"
   ]
  },
  {
   "cell_type": "code",
   "execution_count": null,
   "id": "3785a95c",
   "metadata": {
    "vscode": {
     "languageId": "markdown"
    }
   },
   "outputs": [],
   "source": [
    "!curl -v http://localhost:8000/v1/models"
   ]
  },
  {
   "cell_type": "markdown",
   "id": "85ab04ee",
   "metadata": {},
   "source": [
    "------------"
   ]
  },
  {
   "cell_type": "markdown",
   "id": "d69b328d",
   "metadata": {},
   "source": [
    "## Cleanup\n"
   ]
  },
  {
   "cell_type": "code",
   "execution_count": null,
   "id": "10828a01",
   "metadata": {
    "vscode": {
     "languageId": "markdown"
    }
   },
   "outputs": [],
   "source": [
    "#!az aks stop --resource-group $RESOURCE_GROUP --name $CLUSTER_NAME\n",
    "#!  az group delete --resource-group $RESOURCE_GROUP --yes \n"
   ]
  }
 ],
 "metadata": {
  "kernelspec": {
   "display_name": "dev",
   "language": "python",
   "name": "python3"
  },
  "language_info": {
   "codemirror_mode": {
    "name": "ipython",
    "version": 3
   },
   "file_extension": ".py",
   "mimetype": "text/x-python",
   "name": "python",
   "nbconvert_exporter": "python",
   "pygments_lexer": "ipython3",
   "version": "3.10.16"
  }
 },
 "nbformat": 4,
 "nbformat_minor": 5
}
