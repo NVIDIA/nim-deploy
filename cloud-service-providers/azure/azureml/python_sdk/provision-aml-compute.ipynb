{
 "cells": [
  {
   "cell_type": "markdown",
   "metadata": {},
   "source": [
    "### Install the dependencies"
   ]
  },
  {
   "cell_type": "code",
   "execution_count": 1,
   "metadata": {},
   "outputs": [
    {
     "name": "stdout",
     "output_type": "stream",
     "text": [
      "Requirement already satisfied: azure-identity in /Users/mayani/contoso-chat/.venv/lib/python3.11/site-packages (1.16.0)\n",
      "Requirement already satisfied: azure-mgmt-resource in /Users/mayani/contoso-chat/.venv/lib/python3.11/site-packages (22.0.0)\n",
      "Requirement already satisfied: azure-core>=1.23.0 in /Users/mayani/contoso-chat/.venv/lib/python3.11/site-packages (from azure-identity) (1.30.2)\n",
      "Requirement already satisfied: cryptography>=2.5 in /Users/mayani/contoso-chat/.venv/lib/python3.11/site-packages (from azure-identity) (42.0.8)\n",
      "Requirement already satisfied: msal>=1.24.0 in /Users/mayani/contoso-chat/.venv/lib/python3.11/site-packages (from azure-identity) (1.28.0)\n",
      "Requirement already satisfied: msal-extensions>=0.3.0 in /Users/mayani/contoso-chat/.venv/lib/python3.11/site-packages (from azure-identity) (1.1.0)\n",
      "Requirement already satisfied: msrest>=0.7.1 in /Users/mayani/contoso-chat/.venv/lib/python3.11/site-packages (from azure-mgmt-resource) (0.7.1)\n",
      "Requirement already satisfied: azure-common~=1.1 in /Users/mayani/contoso-chat/.venv/lib/python3.11/site-packages (from azure-mgmt-resource) (1.1.28)\n",
      "Requirement already satisfied: azure-mgmt-core<2.0.0,>=1.3.2 in /Users/mayani/contoso-chat/.venv/lib/python3.11/site-packages (from azure-mgmt-resource) (1.4.0)\n",
      "Requirement already satisfied: requests>=2.21.0 in /Users/mayani/contoso-chat/.venv/lib/python3.11/site-packages (from azure-core>=1.23.0->azure-identity) (2.32.3)\n",
      "Requirement already satisfied: six>=1.11.0 in /Users/mayani/contoso-chat/.venv/lib/python3.11/site-packages (from azure-core>=1.23.0->azure-identity) (1.16.0)\n",
      "Requirement already satisfied: typing-extensions>=4.6.0 in /Users/mayani/contoso-chat/.venv/lib/python3.11/site-packages (from azure-core>=1.23.0->azure-identity) (4.12.1)\n",
      "Requirement already satisfied: cffi>=1.12 in /Users/mayani/contoso-chat/.venv/lib/python3.11/site-packages (from cryptography>=2.5->azure-identity) (1.16.0)\n",
      "Requirement already satisfied: PyJWT<3,>=1.0.0 in /Users/mayani/contoso-chat/.venv/lib/python3.11/site-packages (from PyJWT[crypto]<3,>=1.0.0->msal>=1.24.0->azure-identity) (2.8.0)\n",
      "Requirement already satisfied: packaging in /Users/mayani/contoso-chat/.venv/lib/python3.11/site-packages (from msal-extensions>=0.3.0->azure-identity) (24.0)\n",
      "Requirement already satisfied: portalocker<3,>=1.0 in /Users/mayani/contoso-chat/.venv/lib/python3.11/site-packages (from msal-extensions>=0.3.0->azure-identity) (2.8.2)\n",
      "Requirement already satisfied: certifi>=2017.4.17 in /Users/mayani/contoso-chat/.venv/lib/python3.11/site-packages (from msrest>=0.7.1->azure-mgmt-resource) (2024.6.2)\n",
      "Requirement already satisfied: isodate>=0.6.0 in /Users/mayani/contoso-chat/.venv/lib/python3.11/site-packages (from msrest>=0.7.1->azure-mgmt-resource) (0.6.1)\n",
      "Requirement already satisfied: requests-oauthlib>=0.5.0 in /Users/mayani/contoso-chat/.venv/lib/python3.11/site-packages (from msrest>=0.7.1->azure-mgmt-resource) (2.0.0)\n",
      "Requirement already satisfied: pycparser in /Users/mayani/contoso-chat/.venv/lib/python3.11/site-packages (from cffi>=1.12->cryptography>=2.5->azure-identity) (2.22)\n",
      "Requirement already satisfied: charset-normalizer<4,>=2 in /Users/mayani/contoso-chat/.venv/lib/python3.11/site-packages (from requests>=2.21.0->azure-core>=1.23.0->azure-identity) (3.3.2)\n",
      "Requirement already satisfied: idna<4,>=2.5 in /Users/mayani/contoso-chat/.venv/lib/python3.11/site-packages (from requests>=2.21.0->azure-core>=1.23.0->azure-identity) (3.7)\n",
      "Requirement already satisfied: urllib3<3,>=1.21.1 in /Users/mayani/contoso-chat/.venv/lib/python3.11/site-packages (from requests>=2.21.0->azure-core>=1.23.0->azure-identity) (2.2.1)\n",
      "Requirement already satisfied: oauthlib>=3.0.0 in /Users/mayani/contoso-chat/.venv/lib/python3.11/site-packages (from requests-oauthlib>=0.5.0->msrest>=0.7.1->azure-mgmt-resource) (3.2.2)\n",
      "\n",
      "\u001b[1m[\u001b[0m\u001b[34;49mnotice\u001b[0m\u001b[1;39;49m]\u001b[0m\u001b[39;49m A new release of pip is available: \u001b[0m\u001b[31;49m24.0\u001b[0m\u001b[39;49m -> \u001b[0m\u001b[32;49m24.1.2\u001b[0m\n",
      "\u001b[1m[\u001b[0m\u001b[34;49mnotice\u001b[0m\u001b[1;39;49m]\u001b[0m\u001b[39;49m To update, run: \u001b[0m\u001b[32;49mpip install --upgrade pip\u001b[0m\n",
      "Requirement already satisfied: azure-ai-ml in /Users/mayani/contoso-chat/.venv/lib/python3.11/site-packages (1.16.1)\n",
      "Requirement already satisfied: pyyaml>=5.1.0 in /Users/mayani/contoso-chat/.venv/lib/python3.11/site-packages (from azure-ai-ml) (6.0.1)\n",
      "Requirement already satisfied: msrest>=0.6.18 in /Users/mayani/contoso-chat/.venv/lib/python3.11/site-packages (from azure-ai-ml) (0.7.1)\n",
      "Requirement already satisfied: azure-core>=1.23.0 in /Users/mayani/contoso-chat/.venv/lib/python3.11/site-packages (from azure-ai-ml) (1.30.2)\n",
      "Requirement already satisfied: azure-mgmt-core>=1.3.0 in /Users/mayani/contoso-chat/.venv/lib/python3.11/site-packages (from azure-ai-ml) (1.4.0)\n",
      "Requirement already satisfied: marshmallow>=3.5 in /Users/mayani/contoso-chat/.venv/lib/python3.11/site-packages (from azure-ai-ml) (3.21.3)\n",
      "Requirement already satisfied: jsonschema>=4.0.0 in /Users/mayani/contoso-chat/.venv/lib/python3.11/site-packages (from azure-ai-ml) (4.22.0)\n",
      "Requirement already satisfied: tqdm in /Users/mayani/contoso-chat/.venv/lib/python3.11/site-packages (from azure-ai-ml) (4.66.4)\n",
      "Requirement already satisfied: strictyaml in /Users/mayani/contoso-chat/.venv/lib/python3.11/site-packages (from azure-ai-ml) (1.7.3)\n",
      "Requirement already satisfied: colorama in /Users/mayani/contoso-chat/.venv/lib/python3.11/site-packages (from azure-ai-ml) (0.4.6)\n",
      "Requirement already satisfied: pyjwt in /Users/mayani/contoso-chat/.venv/lib/python3.11/site-packages (from azure-ai-ml) (2.8.0)\n",
      "Requirement already satisfied: azure-storage-blob>=12.10.0 in /Users/mayani/contoso-chat/.venv/lib/python3.11/site-packages (from azure-ai-ml) (12.20.0)\n",
      "Requirement already satisfied: azure-storage-file-share in /Users/mayani/contoso-chat/.venv/lib/python3.11/site-packages (from azure-ai-ml) (12.16.0)\n",
      "Requirement already satisfied: azure-storage-file-datalake>=12.2.0 in /Users/mayani/contoso-chat/.venv/lib/python3.11/site-packages (from azure-ai-ml) (12.15.0)\n",
      "Requirement already satisfied: pydash>=6.0.0 in /Users/mayani/contoso-chat/.venv/lib/python3.11/site-packages (from azure-ai-ml) (7.0.7)\n",
      "Requirement already satisfied: isodate in /Users/mayani/contoso-chat/.venv/lib/python3.11/site-packages (from azure-ai-ml) (0.6.1)\n",
      "Requirement already satisfied: azure-common>=1.1 in /Users/mayani/contoso-chat/.venv/lib/python3.11/site-packages (from azure-ai-ml) (1.1.28)\n",
      "Requirement already satisfied: typing-extensions in /Users/mayani/contoso-chat/.venv/lib/python3.11/site-packages (from azure-ai-ml) (4.12.1)\n",
      "Requirement already satisfied: opencensus-ext-azure in /Users/mayani/contoso-chat/.venv/lib/python3.11/site-packages (from azure-ai-ml) (1.1.13)\n",
      "Requirement already satisfied: opencensus-ext-logging in /Users/mayani/contoso-chat/.venv/lib/python3.11/site-packages (from azure-ai-ml) (0.1.1)\n",
      "Requirement already satisfied: requests>=2.21.0 in /Users/mayani/contoso-chat/.venv/lib/python3.11/site-packages (from azure-core>=1.23.0->azure-ai-ml) (2.32.3)\n",
      "Requirement already satisfied: six>=1.11.0 in /Users/mayani/contoso-chat/.venv/lib/python3.11/site-packages (from azure-core>=1.23.0->azure-ai-ml) (1.16.0)\n",
      "Requirement already satisfied: cryptography>=2.1.4 in /Users/mayani/contoso-chat/.venv/lib/python3.11/site-packages (from azure-storage-blob>=12.10.0->azure-ai-ml) (42.0.8)\n",
      "Requirement already satisfied: attrs>=22.2.0 in /Users/mayani/contoso-chat/.venv/lib/python3.11/site-packages (from jsonschema>=4.0.0->azure-ai-ml) (23.2.0)\n",
      "Requirement already satisfied: jsonschema-specifications>=2023.03.6 in /Users/mayani/contoso-chat/.venv/lib/python3.11/site-packages (from jsonschema>=4.0.0->azure-ai-ml) (2023.12.1)\n",
      "Requirement already satisfied: referencing>=0.28.4 in /Users/mayani/contoso-chat/.venv/lib/python3.11/site-packages (from jsonschema>=4.0.0->azure-ai-ml) (0.35.1)\n",
      "Requirement already satisfied: rpds-py>=0.7.1 in /Users/mayani/contoso-chat/.venv/lib/python3.11/site-packages (from jsonschema>=4.0.0->azure-ai-ml) (0.18.1)\n",
      "Requirement already satisfied: packaging>=17.0 in /Users/mayani/contoso-chat/.venv/lib/python3.11/site-packages (from marshmallow>=3.5->azure-ai-ml) (24.0)\n",
      "Requirement already satisfied: certifi>=2017.4.17 in /Users/mayani/contoso-chat/.venv/lib/python3.11/site-packages (from msrest>=0.6.18->azure-ai-ml) (2024.6.2)\n",
      "Requirement already satisfied: requests-oauthlib>=0.5.0 in /Users/mayani/contoso-chat/.venv/lib/python3.11/site-packages (from msrest>=0.6.18->azure-ai-ml) (2.0.0)\n",
      "Requirement already satisfied: azure-identity<2.0.0,>=1.5.0 in /Users/mayani/contoso-chat/.venv/lib/python3.11/site-packages (from opencensus-ext-azure->azure-ai-ml) (1.16.0)\n",
      "Requirement already satisfied: opencensus<1.0.0,>=0.11.4 in /Users/mayani/contoso-chat/.venv/lib/python3.11/site-packages (from opencensus-ext-azure->azure-ai-ml) (0.11.4)\n",
      "Requirement already satisfied: psutil>=5.6.3 in /Users/mayani/contoso-chat/.venv/lib/python3.11/site-packages (from opencensus-ext-azure->azure-ai-ml) (5.9.8)\n",
      "Requirement already satisfied: python-dateutil>=2.6.0 in /Users/mayani/contoso-chat/.venv/lib/python3.11/site-packages (from strictyaml->azure-ai-ml) (2.9.0.post0)\n",
      "Requirement already satisfied: msal>=1.24.0 in /Users/mayani/contoso-chat/.venv/lib/python3.11/site-packages (from azure-identity<2.0.0,>=1.5.0->opencensus-ext-azure->azure-ai-ml) (1.28.0)\n",
      "Requirement already satisfied: msal-extensions>=0.3.0 in /Users/mayani/contoso-chat/.venv/lib/python3.11/site-packages (from azure-identity<2.0.0,>=1.5.0->opencensus-ext-azure->azure-ai-ml) (1.1.0)\n",
      "Requirement already satisfied: cffi>=1.12 in /Users/mayani/contoso-chat/.venv/lib/python3.11/site-packages (from cryptography>=2.1.4->azure-storage-blob>=12.10.0->azure-ai-ml) (1.16.0)\n",
      "Requirement already satisfied: opencensus-context>=0.1.3 in /Users/mayani/contoso-chat/.venv/lib/python3.11/site-packages (from opencensus<1.0.0,>=0.11.4->opencensus-ext-azure->azure-ai-ml) (0.1.3)\n",
      "Requirement already satisfied: google-api-core<3.0.0,>=1.0.0 in /Users/mayani/contoso-chat/.venv/lib/python3.11/site-packages (from opencensus<1.0.0,>=0.11.4->opencensus-ext-azure->azure-ai-ml) (2.19.0)\n",
      "Requirement already satisfied: charset-normalizer<4,>=2 in /Users/mayani/contoso-chat/.venv/lib/python3.11/site-packages (from requests>=2.21.0->azure-core>=1.23.0->azure-ai-ml) (3.3.2)\n",
      "Requirement already satisfied: idna<4,>=2.5 in /Users/mayani/contoso-chat/.venv/lib/python3.11/site-packages (from requests>=2.21.0->azure-core>=1.23.0->azure-ai-ml) (3.7)\n",
      "Requirement already satisfied: urllib3<3,>=1.21.1 in /Users/mayani/contoso-chat/.venv/lib/python3.11/site-packages (from requests>=2.21.0->azure-core>=1.23.0->azure-ai-ml) (2.2.1)\n",
      "Requirement already satisfied: oauthlib>=3.0.0 in /Users/mayani/contoso-chat/.venv/lib/python3.11/site-packages (from requests-oauthlib>=0.5.0->msrest>=0.6.18->azure-ai-ml) (3.2.2)\n",
      "Requirement already satisfied: pycparser in /Users/mayani/contoso-chat/.venv/lib/python3.11/site-packages (from cffi>=1.12->cryptography>=2.1.4->azure-storage-blob>=12.10.0->azure-ai-ml) (2.22)\n",
      "Requirement already satisfied: googleapis-common-protos<2.0.dev0,>=1.56.2 in /Users/mayani/contoso-chat/.venv/lib/python3.11/site-packages (from google-api-core<3.0.0,>=1.0.0->opencensus<1.0.0,>=0.11.4->opencensus-ext-azure->azure-ai-ml) (1.63.1)\n",
      "Requirement already satisfied: protobuf!=3.20.0,!=3.20.1,!=4.21.0,!=4.21.1,!=4.21.2,!=4.21.3,!=4.21.4,!=4.21.5,<5.0.0.dev0,>=3.19.5 in /Users/mayani/contoso-chat/.venv/lib/python3.11/site-packages (from google-api-core<3.0.0,>=1.0.0->opencensus<1.0.0,>=0.11.4->opencensus-ext-azure->azure-ai-ml) (4.25.3)\n",
      "Requirement already satisfied: proto-plus<2.0.0dev,>=1.22.3 in /Users/mayani/contoso-chat/.venv/lib/python3.11/site-packages (from google-api-core<3.0.0,>=1.0.0->opencensus<1.0.0,>=0.11.4->opencensus-ext-azure->azure-ai-ml) (1.23.0)\n",
      "Requirement already satisfied: google-auth<3.0.dev0,>=2.14.1 in /Users/mayani/contoso-chat/.venv/lib/python3.11/site-packages (from google-api-core<3.0.0,>=1.0.0->opencensus<1.0.0,>=0.11.4->opencensus-ext-azure->azure-ai-ml) (2.30.0)\n",
      "Requirement already satisfied: portalocker<3,>=1.0 in /Users/mayani/contoso-chat/.venv/lib/python3.11/site-packages (from msal-extensions>=0.3.0->azure-identity<2.0.0,>=1.5.0->opencensus-ext-azure->azure-ai-ml) (2.8.2)\n",
      "Requirement already satisfied: cachetools<6.0,>=2.0.0 in /Users/mayani/contoso-chat/.venv/lib/python3.11/site-packages (from google-auth<3.0.dev0,>=2.14.1->google-api-core<3.0.0,>=1.0.0->opencensus<1.0.0,>=0.11.4->opencensus-ext-azure->azure-ai-ml) (5.3.3)\n",
      "Requirement already satisfied: pyasn1-modules>=0.2.1 in /Users/mayani/contoso-chat/.venv/lib/python3.11/site-packages (from google-auth<3.0.dev0,>=2.14.1->google-api-core<3.0.0,>=1.0.0->opencensus<1.0.0,>=0.11.4->opencensus-ext-azure->azure-ai-ml) (0.4.0)\n",
      "Requirement already satisfied: rsa<5,>=3.1.4 in /Users/mayani/contoso-chat/.venv/lib/python3.11/site-packages (from google-auth<3.0.dev0,>=2.14.1->google-api-core<3.0.0,>=1.0.0->opencensus<1.0.0,>=0.11.4->opencensus-ext-azure->azure-ai-ml) (4.9)\n",
      "Requirement already satisfied: pyasn1<0.7.0,>=0.4.6 in /Users/mayani/contoso-chat/.venv/lib/python3.11/site-packages (from pyasn1-modules>=0.2.1->google-auth<3.0.dev0,>=2.14.1->google-api-core<3.0.0,>=1.0.0->opencensus<1.0.0,>=0.11.4->opencensus-ext-azure->azure-ai-ml) (0.6.0)\n",
      "\n",
      "\u001b[1m[\u001b[0m\u001b[34;49mnotice\u001b[0m\u001b[1;39;49m]\u001b[0m\u001b[39;49m A new release of pip is available: \u001b[0m\u001b[31;49m24.0\u001b[0m\u001b[39;49m -> \u001b[0m\u001b[32;49m24.1.2\u001b[0m\n",
      "\u001b[1m[\u001b[0m\u001b[34;49mnotice\u001b[0m\u001b[1;39;49m]\u001b[0m\u001b[39;49m To update, run: \u001b[0m\u001b[32;49mpip install --upgrade pip\u001b[0m\n"
     ]
    }
   ],
   "source": [
    "!pip install azure-identity azure-mgmt-resource\n",
    "!pip install azure-ai-ml"
   ]
  },
  {
   "cell_type": "markdown",
   "metadata": {},
   "source": [
    "### Setup authentication and create resource"
   ]
  },
  {
   "cell_type": "code",
   "execution_count": 2,
   "metadata": {},
   "outputs": [
    {
     "data": {
      "text/plain": [
       "ComputeInstance({'state': 'Running', 'last_operation': {'operation_name': 'Create', 'operation_time': '2024-07-11T19:58:01.445Z', 'operation_status': 'Succeeded', 'operation_trigger': 'User'}, 'os_image_metadata': <azure.ai.ml.entities._compute._image_metadata.ImageMetadata object at 0x11cbf71d0>, 'services': [{'display_name': 'Jupyter', 'endpoint_uri': 'https://mayani-gpu-ci.swedencentral.instances.azureml.ms/tree/'}, {'display_name': 'Jupyter Lab', 'endpoint_uri': 'https://mayani-gpu-ci.swedencentral.instances.azureml.ms/lab'}], 'type': 'computeinstance', 'created_on': '2024-07-11T19:57:53.325138+0000', 'provisioning_state': 'Succeeded', 'provisioning_errors': None, 'name': 'mayani-gpu-ci', 'description': None, 'tags': None, 'properties': {}, 'print_as_yaml': False, 'id': '/subscriptions/b7d41fc8-d35d-41db-92ed-1f7f1d32d4d9/resourceGroups/contchat-rg-mayani-7/providers/Microsoft.MachineLearningServices/workspaces/contoso-chat-sf-ai/computes/mayani-gpu-ci', 'Resource__source_path': '', 'base_path': '/Users/mayani/nim-on-azure/nim_azureml', 'creation_context': None, 'serialize': <msrest.serialization.Serializer object at 0x11cbfe990>, 'resource_id': None, 'location': 'swedencentral', 'size': 'Standard_NC24ads_A100_v4', 'ssh_public_access_enabled': False, 'create_on_behalf_of': None, 'network_settings': <azure.ai.ml.entities._compute.compute.NetworkSettings object at 0x11cbf7890>, 'ssh_settings': <azure.ai.ml.entities._compute.compute_instance.ComputeInstanceSshSettings object at 0x11cbedc10>, 'schedules': None, 'identity': None, 'idle_time_before_shutdown': None, 'idle_time_before_shutdown_minutes': None, 'setup_scripts': None, 'enable_node_public_ip': True, 'enable_sso': True, 'enable_root_access': True, 'release_quota_on_stop': False, 'enable_os_patching': False, 'custom_applications': None, 'subnet': None})"
      ]
     },
     "execution_count": 2,
     "metadata": {},
     "output_type": "execute_result"
    }
   ],
   "source": [
    "from azure.ai.ml import MLClient\n",
    "from azure.identity import InteractiveBrowserCredential\n",
    "from azure.ai.ml.entities import ComputeInstance, AmlCompute\n",
    "import datetime\n",
    "\n",
    "# Set up the ML client\n",
    "subscription_id = \"<your subscription id>\"\n",
    "resource_group = \"<your resource group>\"\n",
    "workspace_name = \"<your AzureML workspace\"\n",
    "\n",
    "# Use interactive login authentication\n",
    "interactive_credential = InteractiveBrowserCredential()\n",
    "\n",
    "ml_client = MLClient(\n",
    "    interactive_credential,\n",
    "    subscription_id,\n",
    "    resource_group,\n",
    "    workspace_name\n",
    ")\n",
    "\n",
    "# Create a unique name for the compute instance\n",
    "ci_gpu_name = \"<compute-instance-name>\"\n",
    "\n",
    "\n",
    "# Define the compute instance with custom image\n",
    "ci_gpu = ComputeInstance(\n",
    "    name=ci_gpu_name,\n",
    "    size=\"Standard_NC24ads_A100_v4\",  # NC24Ads VM with Nvidia 1 A100 GPU\n",
    ")\n",
    "\n",
    "# Create or update the compute instance\n",
    "ml_client.compute.begin_create_or_update(ci_gpu).result()"
   ]
  },
  {
   "cell_type": "markdown",
   "metadata": {},
   "source": [
    "### Deleting the resources"
   ]
  },
  {
   "cell_type": "code",
   "execution_count": 57,
   "metadata": {},
   "outputs": [],
   "source": [
    "ml_client.compute.begin_delete(ci_gpu_name).wait()"
   ]
  }
 ],
 "metadata": {
  "kernelspec": {
   "display_name": ".venv",
   "language": "python",
   "name": "python3"
  },
  "language_info": {
   "codemirror_mode": {
    "name": "ipython",
    "version": 3
   },
   "file_extension": ".py",
   "mimetype": "text/x-python",
   "name": "python",
   "nbconvert_exporter": "python",
   "pygments_lexer": "ipython3",
   "version": "3.11.9"
  }
 },
 "nbformat": 4,
 "nbformat_minor": 2
}
