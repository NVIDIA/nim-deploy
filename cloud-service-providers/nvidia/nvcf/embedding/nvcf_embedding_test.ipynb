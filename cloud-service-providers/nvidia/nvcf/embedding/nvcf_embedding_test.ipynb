{
 "cells": [
  {
   "cell_type": "markdown",
   "metadata": {},
   "source": [
    "## NVCF test with Python Requests"
   ]
  },
  {
   "cell_type": "code",
   "execution_count": 4,
   "metadata": {},
   "outputs": [],
   "source": [
    "import requests\n",
    "import os\n",
    "s = requests.Session()\n",
    "\n",
    "api_key = os.environ['NGC_API_KEY']\n",
    "function_id = \"FUNCTION_ID\"\n",
    "\n",
    "headers = {\n",
    "    \"Authorization\": f\"Bearer {api_key}\",\n",
    "    \"accept\": \"application/json\",\n",
    "    \"Content-Type\": \"application/json\"\n",
    "}\n",
    "\n",
    "nvcf_url = f\"https://api.nvcf.nvidia.com/v2/nvcf/pexec/functions/{function_id}\""
   ]
  },
  {
   "cell_type": "code",
   "execution_count": null,
   "metadata": {},
   "outputs": [],
   "source": [
    "body = {\n",
    "    \"input\": [\"What is the capital of France?\"],\n",
    "    \"model\": \"nvidia/nv-embedqa-e5-v5\",\n",
    "    \"input_type\": \"query\",\n",
    "    \"encoding_format\": \"float\",\n",
    "    \"truncate\": \"NONE\",\n",
    "}\n",
    "\n",
    "resp = requests.post(nvcf_url, headers=headers, json=body)\n",
    "resp.json()"
   ]
  },
  {
   "cell_type": "markdown",
   "metadata": {},
   "source": [
    "## NVCF test with LangChain"
   ]
  },
  {
   "cell_type": "code",
   "execution_count": null,
   "metadata": {},
   "outputs": [],
   "source": [
    "from langchain_nvidia_ai_endpoints import register_model, Model, NVIDIAEmbeddings\n",
    "\n",
    "register_model(Model(id=\"nvidia/nv-embedqa-e5-v5\", \n",
    "                     model_type=\"embedding\", \n",
    "                     client=\"NVIDIAEmbeddings\", \n",
    "                     endpoint=nvcf_url))\n",
    "\n",
    "embed_client = NVIDIAEmbeddings(\n",
    "  model=\"nvidia/nv-embedqa-e5-v5\", \n",
    "  api_key=api_key, \n",
    "  truncate=\"NONE\", \n",
    "  )\n",
    "\n",
    "embedding = embed_client.embed_query(\"What is the capital of France?\")\n",
    "print(embedding)"
   ]
  }
 ],
 "metadata": {
  "kernelspec": {
   "display_name": "Python 3",
   "language": "python",
   "name": "python3"
  },
  "language_info": {
   "codemirror_mode": {
    "name": "ipython",
    "version": 3
   },
   "file_extension": ".py",
   "mimetype": "text/x-python",
   "name": "python",
   "nbconvert_exporter": "python",
   "pygments_lexer": "ipython3",
   "version": "3.10.14"
  }
 },
 "nbformat": 4,
 "nbformat_minor": 2
}
