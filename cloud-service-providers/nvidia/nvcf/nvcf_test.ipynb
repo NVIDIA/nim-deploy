{
 "cells": [
  {
   "cell_type": "markdown",
   "metadata": {},
   "source": [
    "## NVCF test with Python Requests"
   ]
  },
  {
   "cell_type": "code",
   "execution_count": null,
   "metadata": {},
   "outputs": [],
   "source": [
    "import requests\n",
    "\n",
    "s = requests.Session()\n",
    "\n",
    "api_key = \"nvapi-YOUR_PERSONAL_KEY\"\n",
    "function_id = \"YOUR_FUNCTION_ID\"\n",
    "\n",
    "headers = {\n",
    "    \"Authorization\": f\"Bearer {api_key}\",\n",
    "    \"accept\": \"application/json\",\n",
    "    \"Content-Type\": \"application/json\"\n",
    "}\n",
    "\n",
    "url = f\"https://api.nvcf.nvidia.com/v2/nvcf/pexec/functions/{function_id}\""
   ]
  },
  {
   "cell_type": "code",
   "execution_count": null,
   "metadata": {},
   "outputs": [],
   "source": [
    "body = { \n",
    "    \"model\": \"meta/llama3-8b-instruct\",\n",
    "    \"messages\": [ { \"content\": \"I am going to Paris, what should I see?\", \"role\": \"user\" } ], \n",
    "    \"temperature\": 0.2, \n",
    "    \"top_p\": 0.7, \n",
    "    \"max_tokens\": 1024, \n",
    "    \"seed\": 42, \n",
    "    \"stream\": False \n",
    "}\n",
    "\n",
    "resp = requests.post(url, headers=headers, json=body)\n",
    "resp.json()['choices'][0]['message']['content']"
   ]
  },
  {
   "cell_type": "markdown",
   "metadata": {},
   "source": [
    "## NVCF test with OpenAI API"
   ]
  },
  {
   "cell_type": "code",
   "execution_count": 2,
   "metadata": {},
   "outputs": [],
   "source": [
    "\n",
    "api_key = \"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\"\n",
    "function_id = \"2ded692d-1703-4bde-a862-6a6aea9b77a3\"\n",
    "\n",
    "headers = {\n",
    "    \"Authorization\": f\"Bearer {api_key}\",\n",
    "    \"accept\": \"application/json\",\n",
    "    \"Content-Type\": \"application/json\"\n",
    "}\n",
    "\n",
    "url = f\"https://api.nvcf.nvidia.com/v2/nvcf/pexec/functions/{function_id}\""
   ]
  },
  {
   "cell_type": "code",
   "execution_count": 6,
   "metadata": {},
   "outputs": [
    {
     "ename": "ModuleNotFoundError",
     "evalue": "No module named 'openai'",
     "output_type": "error",
     "traceback": [
      "\u001b[0;31m---------------------------------------------------------------------------\u001b[0m",
      "\u001b[0;31mModuleNotFoundError\u001b[0m                       Traceback (most recent call last)",
      "Cell \u001b[0;32mIn[6], line 2\u001b[0m\n\u001b[1;32m      1\u001b[0m \u001b[38;5;28;01mimport\u001b[39;00m \u001b[38;5;21;01mhttpx\u001b[39;00m\n\u001b[0;32m----> 2\u001b[0m \u001b[38;5;28;01mimport\u001b[39;00m \u001b[38;5;21;01mopenai\u001b[39;00m\n\u001b[1;32m      4\u001b[0m client \u001b[38;5;241m=\u001b[39m openai\u001b[38;5;241m.\u001b[39mOpenAI(\n\u001b[1;32m      5\u001b[0m     api_key\u001b[38;5;241m=\u001b[39mapi_key,\n\u001b[1;32m      6\u001b[0m     base_url\u001b[38;5;241m=\u001b[39murl,\n\u001b[1;32m      7\u001b[0m     http_client\u001b[38;5;241m=\u001b[39mhttpx\u001b[38;5;241m.\u001b[39mClient(http2\u001b[38;5;241m=\u001b[39m\u001b[38;5;28;01mTrue\u001b[39;00m),\n\u001b[1;32m      8\u001b[0m )\n\u001b[1;32m     10\u001b[0m \u001b[38;5;28mprint\u001b[39m(\u001b[38;5;124m\"\u001b[39m\u001b[38;5;124msending message...\u001b[39m\u001b[38;5;124m\"\u001b[39m)\n",
      "\u001b[0;31mModuleNotFoundError\u001b[0m: No module named 'openai'"
     ]
    }
   ],
   "source": [
    "import httpx\n",
    "import openai\n",
    "\n",
    "client = openai.OpenAI(\n",
    "    api_key=api_key,\n",
    "    base_url=url,\n",
    "    http_client=httpx.Client(http2=True),\n",
    ")\n",
    "\n",
    "print(\"sending message...\")\n",
    "response = client.chat.completions.create(\n",
    "    model=\"meta/llama3-8b-instruct\",\n",
    "    messages=[\n",
    "        {\"role\": \"user\",\n",
    "         \"content\": \"How do I output all files in a directory using Python?\"}\n",
    "    ],\n",
    "    max_tokens=1000,\n",
    "    temperature=0.2,\n",
    "    top_p=0.7,\n",
    "    # stream=True\n",
    ")\n",
    "\n",
    "for chunk in response:\n",
    "    print(chunk.choices[0].delta.content, end=\"\")"
   ]
  },
  {
   "cell_type": "code",
   "execution_count": null,
   "metadata": {},
   "outputs": [],
   "source": []
  }
 ],
 "metadata": {
  "kernelspec": {
   "display_name": "Python 3",
   "language": "python",
   "name": "python3"
  },
  "language_info": {
   "codemirror_mode": {
    "name": "ipython",
    "version": 3
   },
   "file_extension": ".py",
   "mimetype": "text/x-python",
   "name": "python",
   "nbconvert_exporter": "python",
   "pygments_lexer": "ipython3",
   "version": "3.10.2"
  }
 },
 "nbformat": 4,
 "nbformat_minor": 2
}
