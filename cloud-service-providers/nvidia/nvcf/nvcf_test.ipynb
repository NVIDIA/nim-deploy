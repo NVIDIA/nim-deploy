{
 "cells": [
  {
   "cell_type": "markdown",
   "metadata": {},
   "source": [
    "## NVCF test with Python Requests"
   ]
  },
  {
   "cell_type": "code",
   "execution_count": null,
   "metadata": {},
   "outputs": [],
   "source": [
    "import requests\n",
    "\n",
    "s = requests.Session()\n",
    "\n",
    "api_key = \"nvapi-YOUR_PERSONAL_KEY\"\n",
    "function_id = \"YOUR_FUNCTION_ID\"\n",
    "\n",
    "headers = {\n",
    "    \"Authorization\": f\"Bearer {api_key}\",\n",
    "    \"accept\": \"application/json\",\n",
    "    \"Content-Type\": \"application/json\"\n",
    "}\n",
    "\n",
    "nvcf_url = f\"https://api.nvcf.nvidia.com/v2/nvcf/pexec/functions/{function_id}\""
   ]
  },
  {
   "cell_type": "code",
   "execution_count": null,
   "metadata": {},
   "outputs": [],
   "source": [
    "body = { \n",
    "    \"model\": \"meta/llama3-8b-instruct\",\n",
    "    \"messages\": [ { \"content\": \"I am going to Paris, what should I see?\", \"role\": \"user\" } ], \n",
    "    \"temperature\": 0.2, \n",
    "    \"top_p\": 0.7, \n",
    "    \"max_tokens\": 1024, \n",
    "    \"seed\": 42, \n",
    "    \"stream\": False \n",
    "}\n",
    "\n",
    "resp = requests.post(nvcf_url, headers=headers, json=body)\n",
    "resp.json()['choices'][0]['message']['content']"
   ]
  },
  {
   "cell_type": "markdown",
   "metadata": {},
   "source": [
    "## NVCF test with LangChain"
   ]
  },
  {
   "cell_type": "code",
   "execution_count": null,
   "metadata": {},
   "outputs": [],
   "source": [
    "import os\n",
    "from langchain_nvidia_ai_endpoints import register_model, Model, ChatNVIDIA\n",
    "\n",
    "# Set NVIDIA_API_KEY env var \n",
    "os.environ['NVIDIA_API_KEY'] = \"nvapi-YOUR_PERSONAL_KEY\"\n",
    "\n",
    "# Call register_model\n",
    "register_model(Model(id=\"meta/llama3-8b-instruct\", model_type=\"chat\", client=\"ChatNVIDIA\", endpoint=nvcf_url))"
   ]
  },
  {
   "cell_type": "code",
   "execution_count": null,
   "metadata": {},
   "outputs": [],
   "source": [
    "# Invoke the LangChain with ChatNVIDIA \n",
    "llm = ChatNVIDIA(model=\"meta/llama3-8b-instruct\")\n",
    "print(llm.invoke('I am going to Paris, what should I see?'))"
   ]
  }
 ],
 "metadata": {
  "kernelspec": {
   "display_name": "Python 3",
   "language": "python",
   "name": "python3"
  },
  "language_info": {
   "codemirror_mode": {
    "name": "ipython",
    "version": 3
   },
   "file_extension": ".py",
   "mimetype": "text/x-python",
   "name": "python",
   "nbconvert_exporter": "python",
   "pygments_lexer": "ipython3",
   "version": "3.10.2"
  }
 },
 "nbformat": 4,
 "nbformat_minor": 2
}
