{
 "cells": [
  {
   "cell_type": "code",
   "execution_count": null,
   "metadata": {},
   "outputs": [],
   "source": [
    "import requests\n",
    "\n",
    "s = requests.Session()\n",
    "\n",
    "api_key = \"nvapi-YOUR_PERSONAL_KEY\"\n",
    "function_id = \"YOUR_FUNCTION_ID\"\n",
    "\n",
    "headers = {\n",
    "    \"Authorization\": f\"Bearer {api_key}\",\n",
    "    \"accept\": \"application/json\",\n",
    "    \"Content-Type\": \"application/json\"\n",
    "}\n",
    "\n",
    "url = f\"https://api.nvcf.nvidia.com/v2/nvcf/pexec/functions/{function_id}\""
   ]
  },
  {
   "cell_type": "code",
   "execution_count": null,
   "metadata": {},
   "outputs": [],
   "source": [
    "body = { \n",
    "    \"model\": \"meta/llama3-8b-instruct\",\n",
    "    \"messages\": [ { \"content\": \"I am going to Paris, what should I see?\", \"role\": \"user\" } ], \n",
    "    \"temperature\": 0.2, \n",
    "    \"top_p\": 0.7, \n",
    "    \"max_tokens\": 1024, \n",
    "    \"seed\": 42, \n",
    "    \"stream\": False \n",
    "}\n",
    "\n",
    "resp = requests.post(url, headers=headers, json=body)\n",
    "resp.json()['choices'][0]['message']['content']"
   ]
  }
 ],
 "metadata": {
  "language_info": {
   "name": "python"
  }
 },
 "nbformat": 4,
 "nbformat_minor": 2
}
